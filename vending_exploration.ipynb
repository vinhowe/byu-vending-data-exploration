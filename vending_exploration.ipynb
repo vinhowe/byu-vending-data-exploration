{
 "cells": [
  {
   "cell_type": "code",
   "execution_count": 1,
   "metadata": {
    "scrolled": true
   },
   "outputs": [],
   "source": [
    "# import sys\n",
    "# !{sys.executable} -m pip install pytz\n",
    "# !{sys.executable} -m pip install tzlocal\n",
    "# !{sys.executable} -m pip install geopy"
   ]
  },
  {
   "cell_type": "code",
   "execution_count": 2,
   "metadata": {},
   "outputs": [],
   "source": [
    "import requests\n",
    "import numpy as np\n",
    "import pandas as pd\n",
    "from datetime import datetime\n",
    "import pytz\n",
    "from tzlocal import get_localzone\n",
    "from geopy import distance\n",
    "from IPython.display import Markdown, Latex\n",
    "from vending_token import load_vending_token"
   ]
  },
  {
   "cell_type": "code",
   "execution_count": 3,
   "metadata": {},
   "outputs": [],
   "source": [
    "access_token = load_vending_token()\n",
    "# access_token"
   ]
  },
  {
   "cell_type": "code",
   "execution_count": 4,
   "metadata": {},
   "outputs": [],
   "source": [
    "def auth_headers(token = access_token):\n",
    "    return { \"Authorization\": f\"Bearer {token}\" }"
   ]
  },
  {
   "cell_type": "code",
   "execution_count": 5,
   "metadata": {},
   "outputs": [],
   "source": [
    "vending_url = \"https://api.byu.edu/domains/vending/v1/vending.ashx\""
   ]
  },
  {
   "cell_type": "code",
   "execution_count": 6,
   "metadata": {},
   "outputs": [],
   "source": [
    "category_list_params = {\n",
    "    \"format\": \"json\",\n",
    "    \"service\": \"merchandise\",\n",
    "    \"action\": \"listCategories\"\n",
    "}\n",
    "\n",
    "category_list_response = requests.get(vending_url, headers = auth_headers(), params = category_list_params)"
   ]
  },
  {
   "cell_type": "code",
   "execution_count": 7,
   "metadata": {},
   "outputs": [
    {
     "data": {
      "text/plain": [
       "[{'id': 1000, 'description': 'Food/Snacks'},\n",
       " {'id': 1001, 'description': 'Drinks'},\n",
       " {'id': 1002, 'description': 'Candy'},\n",
       " {'id': 1003, 'description': 'Ice Cream/Novelties'}]"
      ]
     },
     "execution_count": 7,
     "metadata": {},
     "output_type": "execute_result"
    }
   ],
   "source": [
    "category_list = category_list_response.json()\n",
    "category_list"
   ]
  },
  {
   "cell_type": "code",
   "execution_count": 8,
   "metadata": {},
   "outputs": [],
   "source": [
    "target_category = 1000"
   ]
  },
  {
   "cell_type": "code",
   "execution_count": 9,
   "metadata": {},
   "outputs": [],
   "source": [
    "product_list_params = {\n",
    "    \"format\": \"json\",\n",
    "    \"service\": \"merchandise\",\n",
    "    \"action\": \"getProducts\",\n",
    "    \"cat\": target_category\n",
    "}\n",
    "\n",
    "product_list_response = requests.get(vending_url, headers = auth_headers(), params = product_list_params)"
   ]
  },
  {
   "cell_type": "code",
   "execution_count": 10,
   "metadata": {
    "scrolled": false
   },
   "outputs": [
    {
     "data": {
      "text/plain": [
       "[{'id': 5243,\n",
       "  'description': 'Sunbelt Choc. Chip Granola Bar',\n",
       "  'price': '50',\n",
       "  'img': ''},\n",
       " {'id': 5302, 'description': \"Gardetto's\", 'price': '80', 'img': ''},\n",
       " {'id': 5303,\n",
       "  'description': 'Sun Chips Harvest Cheddar',\n",
       "  'price': '100',\n",
       "  'img': ''},\n",
       " {'id': 5304, 'description': 'Rold Gold Pretzels', 'price': '100', 'img': ''},\n",
       " {'id': 5306, 'description': 'Doritos Nacho Chips', 'price': '100', 'img': ''}]"
      ]
     },
     "execution_count": 10,
     "metadata": {},
     "output_type": "execute_result"
    }
   ],
   "source": [
    "product_list = product_list_response.json()\n",
    "product_list[:5]"
   ]
  },
  {
   "cell_type": "code",
   "execution_count": 11,
   "metadata": {
    "scrolled": true
   },
   "outputs": [
    {
     "data": {
      "text/plain": [
       "[{'id': 6114,\n",
       "  'description': 'Italian Ciabatta Sandwich',\n",
       "  'price': '350',\n",
       "  'img': ''},\n",
       " {'id': 6151,\n",
       "  'description': 'Chicken Bacon Ranch Ciabatta',\n",
       "  'price': '350',\n",
       "  'img': ''},\n",
       " {'id': 6916,\n",
       "  'description': 'Chicken Poblano Toasted Ciabatta',\n",
       "  'price': '350',\n",
       "  'img': ''}]"
      ]
     },
     "execution_count": 11,
     "metadata": {},
     "output_type": "execute_result"
    }
   ],
   "source": [
    "sandwiches = [x for x in product_list if \"ciabatta\" in x[\"description\"].lower()]\n",
    "sandwiches"
   ]
  },
  {
   "cell_type": "code",
   "execution_count": 12,
   "metadata": {},
   "outputs": [],
   "source": [
    "byu_sandwich_ids = [\n",
    "    6114, #Italian Ciabatta\n",
    "    6151, #Chicken Bacon Ranch Ciabatta\n",
    "    6196, #Chicken Poblano Toasted Ciabatta\n",
    "]"
   ]
  },
  {
   "cell_type": "code",
   "execution_count": 13,
   "metadata": {},
   "outputs": [
    {
     "data": {
      "text/plain": [
       "[{'id': 5985,\n",
       "  'description': 'Chicken Salad Croissant',\n",
       "  'price': '350',\n",
       "  'img': ''},\n",
       " {'id': 6050, 'description': 'Ham Croissant', 'price': '350', 'img': ''},\n",
       " {'id': 6476,\n",
       "  'description': 'Croissant Sausage Egg and Cheese',\n",
       "  'price': '350',\n",
       "  'img': ''},\n",
       " {'id': 6592,\n",
       "  'description': 'Turkey Gouda Croissant',\n",
       "  'price': '350',\n",
       "  'img': ''}]"
      ]
     },
     "execution_count": 13,
     "metadata": {},
     "output_type": "execute_result"
    }
   ],
   "source": [
    "croissants = [x for x in product_list if \"croissant\" in x[\"description\"].lower()]\n",
    "croissants"
   ]
  },
  {
   "cell_type": "code",
   "execution_count": 14,
   "metadata": {},
   "outputs": [],
   "source": [
    "byu_croissant_ids = [\n",
    "    5985, # Chicken Salad\n",
    "    6592, # Turkey Gouda\n",
    "    6050, # Ham & Swiss\n",
    "]"
   ]
  },
  {
   "cell_type": "code",
   "execution_count": 15,
   "metadata": {},
   "outputs": [
    {
     "data": {
      "text/plain": [
       "[{'id': 5977,\n",
       "  'description': 'Blueberry BAGELw/ Cream Cheese',\n",
       "  'price': '125',\n",
       "  'img': ''},\n",
       " {'id': 5978,\n",
       "  'description': 'Plain Bagel w/ Cream Cheese',\n",
       "  'price': '125',\n",
       "  'img': ''},\n",
       " {'id': 5996, 'description': 'Pizza Bagel', 'price': '125', 'img': ''},\n",
       " {'id': 5997, 'description': 'Asiago Bagel', 'price': '125', 'img': ''}]"
      ]
     },
     "execution_count": 15,
     "metadata": {},
     "output_type": "execute_result"
    }
   ],
   "source": [
    "bagels = [x for x in product_list if \"bagel\" in x[\"description\"].lower()]\n",
    "bagels"
   ]
  },
  {
   "cell_type": "code",
   "execution_count": 16,
   "metadata": {},
   "outputs": [],
   "source": [
    "byu_bagel_ids = [\n",
    "    5997, # Asiago\n",
    "    5977, # Blueberry\n",
    "    5978, # Plain\n",
    "    5996, # Pizza\n",
    "]"
   ]
  },
  {
   "cell_type": "markdown",
   "metadata": {},
   "source": [
    "Nutritional reference:\n",
    "- sandwich(es??) https://dining.byu.edu/vending/images/nutrition/nutrition_Sandwiches.png\n",
    "- croissants https://dining.byu.edu/vending/images/nutrition/nutrition_Croissants.png\n",
    "- bagels (except pizza bagel?) https://dining.byu.edu/vending/images/nutrition/nutrition_Bagels.png"
   ]
  },
  {
   "cell_type": "code",
   "execution_count": 17,
   "metadata": {
    "scrolled": false
   },
   "outputs": [
    {
     "data": {
      "text/html": [
       "<div>\n",
       "<style scoped>\n",
       "    .dataframe tbody tr th:only-of-type {\n",
       "        vertical-align: middle;\n",
       "    }\n",
       "\n",
       "    .dataframe tbody tr th {\n",
       "        vertical-align: top;\n",
       "    }\n",
       "\n",
       "    .dataframe thead th {\n",
       "        text-align: right;\n",
       "    }\n",
       "</style>\n",
       "<table border=\"1\" class=\"dataframe\">\n",
       "  <thead>\n",
       "    <tr style=\"text-align: right;\">\n",
       "      <th></th>\n",
       "      <th>id</th>\n",
       "      <th>cost</th>\n",
       "      <th>calories</th>\n",
       "      <th>protein</th>\n",
       "      <th>carbohydrates</th>\n",
       "      <th>sodium</th>\n",
       "      <th>fiber</th>\n",
       "      <th>sugar</th>\n",
       "      <th>fat</th>\n",
       "    </tr>\n",
       "  </thead>\n",
       "  <tbody>\n",
       "    <tr>\n",
       "      <th>0</th>\n",
       "      <td>6114</td>\n",
       "      <td>350</td>\n",
       "      <td>645</td>\n",
       "      <td>31</td>\n",
       "      <td>57</td>\n",
       "      <td>1903</td>\n",
       "      <td>2</td>\n",
       "      <td>5</td>\n",
       "      <td>34.0</td>\n",
       "    </tr>\n",
       "    <tr>\n",
       "      <th>1</th>\n",
       "      <td>5985</td>\n",
       "      <td>350</td>\n",
       "      <td>772</td>\n",
       "      <td>24</td>\n",
       "      <td>92</td>\n",
       "      <td>1061</td>\n",
       "      <td>6</td>\n",
       "      <td>36</td>\n",
       "      <td>46.0</td>\n",
       "    </tr>\n",
       "    <tr>\n",
       "      <th>2</th>\n",
       "      <td>6592</td>\n",
       "      <td>350</td>\n",
       "      <td>857</td>\n",
       "      <td>33</td>\n",
       "      <td>67</td>\n",
       "      <td>1862</td>\n",
       "      <td>2</td>\n",
       "      <td>9</td>\n",
       "      <td>60.0</td>\n",
       "    </tr>\n",
       "  </tbody>\n",
       "</table>\n",
       "</div>"
      ],
      "text/plain": [
       "     id  cost  calories  protein  carbohydrates  sodium  fiber  sugar   fat\n",
       "0  6114   350       645       31             57    1903      2      5  34.0\n",
       "1  5985   350       772       24             92    1061      6     36  46.0\n",
       "2  6592   350       857       33             67    1862      2      9  60.0"
      ]
     },
     "execution_count": 17,
     "metadata": {},
     "output_type": "execute_result"
    }
   ],
   "source": [
    "nutrition_data = pd.read_csv('./bakery_nutrition.csv')\n",
    "nutrition_data[:3]"
   ]
  },
  {
   "cell_type": "markdown",
   "metadata": {},
   "source": [
    "Taken from [FDA daily recommended values document](https://www.fda.gov/media/99059/download) for ages >=4:"
   ]
  },
  {
   "cell_type": "code",
   "execution_count": 18,
   "metadata": {},
   "outputs": [
    {
     "data": {
      "text/html": [
       "<div>\n",
       "<style scoped>\n",
       "    .dataframe tbody tr th:only-of-type {\n",
       "        vertical-align: middle;\n",
       "    }\n",
       "\n",
       "    .dataframe tbody tr th {\n",
       "        vertical-align: top;\n",
       "    }\n",
       "\n",
       "    .dataframe thead th {\n",
       "        text-align: right;\n",
       "    }\n",
       "</style>\n",
       "<table border=\"1\" class=\"dataframe\">\n",
       "  <thead>\n",
       "    <tr style=\"text-align: right;\">\n",
       "      <th></th>\n",
       "      <th>name</th>\n",
       "      <th>unit</th>\n",
       "      <th>quantity</th>\n",
       "    </tr>\n",
       "  </thead>\n",
       "  <tbody>\n",
       "    <tr>\n",
       "      <th>0</th>\n",
       "      <td>fat</td>\n",
       "      <td>g</td>\n",
       "      <td>78</td>\n",
       "    </tr>\n",
       "    <tr>\n",
       "      <th>1</th>\n",
       "      <td>saturated_fat</td>\n",
       "      <td>g</td>\n",
       "      <td>20</td>\n",
       "    </tr>\n",
       "    <tr>\n",
       "      <th>2</th>\n",
       "      <td>cholesterol</td>\n",
       "      <td>mg</td>\n",
       "      <td>300</td>\n",
       "    </tr>\n",
       "    <tr>\n",
       "      <th>3</th>\n",
       "      <td>carbohydrates</td>\n",
       "      <td>g</td>\n",
       "      <td>275</td>\n",
       "    </tr>\n",
       "    <tr>\n",
       "      <th>4</th>\n",
       "      <td>sodium</td>\n",
       "      <td>mg</td>\n",
       "      <td>2300</td>\n",
       "    </tr>\n",
       "    <tr>\n",
       "      <th>5</th>\n",
       "      <td>fiber</td>\n",
       "      <td>g</td>\n",
       "      <td>28</td>\n",
       "    </tr>\n",
       "    <tr>\n",
       "      <th>6</th>\n",
       "      <td>protein</td>\n",
       "      <td>g</td>\n",
       "      <td>50</td>\n",
       "    </tr>\n",
       "    <tr>\n",
       "      <th>7</th>\n",
       "      <td>sugar</td>\n",
       "      <td>g</td>\n",
       "      <td>50</td>\n",
       "    </tr>\n",
       "  </tbody>\n",
       "</table>\n",
       "</div>"
      ],
      "text/plain": [
       "            name unit  quantity\n",
       "0            fat    g        78\n",
       "1  saturated_fat    g        20\n",
       "2    cholesterol   mg       300\n",
       "3  carbohydrates    g       275\n",
       "4         sodium   mg      2300\n",
       "5          fiber    g        28\n",
       "6        protein    g        50\n",
       "7          sugar    g        50"
      ]
     },
     "execution_count": 18,
     "metadata": {},
     "output_type": "execute_result"
    }
   ],
   "source": [
    "drv_data = pd.read_csv('./fda_drv.csv')\n",
    "drv_data"
   ]
  },
  {
   "cell_type": "code",
   "execution_count": 19,
   "metadata": {},
   "outputs": [
    {
     "data": {
      "text/html": [
       "<div>\n",
       "<style scoped>\n",
       "    .dataframe tbody tr th:only-of-type {\n",
       "        vertical-align: middle;\n",
       "    }\n",
       "\n",
       "    .dataframe tbody tr th {\n",
       "        vertical-align: top;\n",
       "    }\n",
       "\n",
       "    .dataframe thead th {\n",
       "        text-align: right;\n",
       "    }\n",
       "</style>\n",
       "<table border=\"1\" class=\"dataframe\">\n",
       "  <thead>\n",
       "    <tr style=\"text-align: right;\">\n",
       "      <th></th>\n",
       "      <th>name</th>\n",
       "      <th>unit</th>\n",
       "      <th>quantity</th>\n",
       "    </tr>\n",
       "  </thead>\n",
       "  <tbody>\n",
       "    <tr>\n",
       "      <th>7</th>\n",
       "      <td>sugar</td>\n",
       "      <td>g</td>\n",
       "      <td>50</td>\n",
       "    </tr>\n",
       "  </tbody>\n",
       "</table>\n",
       "</div>"
      ],
      "text/plain": [
       "    name unit  quantity\n",
       "7  sugar    g        50"
      ]
     },
     "execution_count": 19,
     "metadata": {},
     "output_type": "execute_result"
    }
   ],
   "source": [
    "drv_data.loc[drv_data['name'] == 'sugar']"
   ]
  },
  {
   "cell_type": "code",
   "execution_count": 23,
   "metadata": {},
   "outputs": [
    {
     "data": {
      "text/html": [
       "<div>\n",
       "<style scoped>\n",
       "    .dataframe tbody tr th:only-of-type {\n",
       "        vertical-align: middle;\n",
       "    }\n",
       "\n",
       "    .dataframe tbody tr th {\n",
       "        vertical-align: top;\n",
       "    }\n",
       "\n",
       "    .dataframe thead th {\n",
       "        text-align: right;\n",
       "    }\n",
       "</style>\n",
       "<table border=\"1\" class=\"dataframe\">\n",
       "  <thead>\n",
       "    <tr style=\"text-align: right;\">\n",
       "      <th></th>\n",
       "      <th>id</th>\n",
       "      <th>cost</th>\n",
       "      <th>calories</th>\n",
       "      <th>protein</th>\n",
       "      <th>carbohydrates</th>\n",
       "      <th>sodium</th>\n",
       "      <th>fiber</th>\n",
       "      <th>sugar</th>\n",
       "      <th>fat</th>\n",
       "      <th>name</th>\n",
       "      <th>calories_dollar</th>\n",
       "      <th>protein_dollar</th>\n",
       "      <th>fiber_dollar</th>\n",
       "      <th>protein_drv</th>\n",
       "      <th>fiber_drv</th>\n",
       "    </tr>\n",
       "  </thead>\n",
       "  <tbody>\n",
       "    <tr>\n",
       "      <th>0</th>\n",
       "      <td>6114</td>\n",
       "      <td>350</td>\n",
       "      <td>645</td>\n",
       "      <td>31</td>\n",
       "      <td>57</td>\n",
       "      <td>1903</td>\n",
       "      <td>2</td>\n",
       "      <td>5</td>\n",
       "      <td>34.0</td>\n",
       "      <td>Italian Ciabatta Sandwich</td>\n",
       "      <td>184.285714</td>\n",
       "      <td>8.857143</td>\n",
       "      <td>0.571429</td>\n",
       "      <td>0.62</td>\n",
       "      <td>0.071429</td>\n",
       "    </tr>\n",
       "    <tr>\n",
       "      <th>1</th>\n",
       "      <td>5985</td>\n",
       "      <td>350</td>\n",
       "      <td>772</td>\n",
       "      <td>24</td>\n",
       "      <td>92</td>\n",
       "      <td>1061</td>\n",
       "      <td>6</td>\n",
       "      <td>36</td>\n",
       "      <td>46.0</td>\n",
       "      <td>Chicken Salad Croissant</td>\n",
       "      <td>220.571429</td>\n",
       "      <td>6.857143</td>\n",
       "      <td>1.714286</td>\n",
       "      <td>0.48</td>\n",
       "      <td>0.214286</td>\n",
       "    </tr>\n",
       "    <tr>\n",
       "      <th>2</th>\n",
       "      <td>6592</td>\n",
       "      <td>350</td>\n",
       "      <td>857</td>\n",
       "      <td>33</td>\n",
       "      <td>67</td>\n",
       "      <td>1862</td>\n",
       "      <td>2</td>\n",
       "      <td>9</td>\n",
       "      <td>60.0</td>\n",
       "      <td>Turkey Gouda Croissant</td>\n",
       "      <td>244.857143</td>\n",
       "      <td>9.428571</td>\n",
       "      <td>0.571429</td>\n",
       "      <td>0.66</td>\n",
       "      <td>0.071429</td>\n",
       "    </tr>\n",
       "  </tbody>\n",
       "</table>\n",
       "</div>"
      ],
      "text/plain": [
       "     id  cost  calories  protein  carbohydrates  sodium  fiber  sugar   fat  \\\n",
       "0  6114   350       645       31             57    1903      2      5  34.0   \n",
       "1  5985   350       772       24             92    1061      6     36  46.0   \n",
       "2  6592   350       857       33             67    1862      2      9  60.0   \n",
       "\n",
       "                        name  calories_dollar  protein_dollar  fiber_dollar  \\\n",
       "0  Italian Ciabatta Sandwich       184.285714        8.857143      0.571429   \n",
       "1    Chicken Salad Croissant       220.571429        6.857143      1.714286   \n",
       "2     Turkey Gouda Croissant       244.857143        9.428571      0.571429   \n",
       "\n",
       "   protein_drv  fiber_drv  \n",
       "0         0.62   0.071429  \n",
       "1         0.48   0.214286  \n",
       "2         0.66   0.071429  "
      ]
     },
     "execution_count": 23,
     "metadata": {},
     "output_type": "execute_result"
    }
   ],
   "source": [
    "nutrition_data['name'] = nutrition_data.apply(lambda row: next(x['description'] for x in product_list if x[\"id\"] == int(row.id)), axis = 1)\n",
    "nutrition_data['calories_dollar'] = nutrition_data.apply(lambda row: row.calories / (row.cost / 100), axis = 1)\n",
    "nutrition_data['protein_dollar'] = nutrition_data.apply(lambda row: row.protein / (row.cost / 100), axis = 1)\n",
    "nutrition_data['fiber_dollar'] = nutrition_data.apply(lambda row: row.fiber / (row.cost / 100), axis = 1)\n",
    "nutrition_data['protein_drv'] = nutrition_data.apply(lambda row: row.protein / drv_data.loc[drv_data['name'] == 'protein'].quantity, axis = 1)\n",
    "nutrition_data['fiber_drv'] = nutrition_data.apply(lambda row: row.fiber / drv_data.loc[drv_data['name'] == 'fiber'].quantity, axis = 1)\n",
    "nutrition_data[:3]"
   ]
  },
  {
   "cell_type": "code",
   "execution_count": 25,
   "metadata": {},
   "outputs": [
    {
     "data": {
      "text/html": [
       "<div>\n",
       "<style scoped>\n",
       "    .dataframe tbody tr th:only-of-type {\n",
       "        vertical-align: middle;\n",
       "    }\n",
       "\n",
       "    .dataframe tbody tr th {\n",
       "        vertical-align: top;\n",
       "    }\n",
       "\n",
       "    .dataframe thead th {\n",
       "        text-align: right;\n",
       "    }\n",
       "</style>\n",
       "<table border=\"1\" class=\"dataframe\">\n",
       "  <thead>\n",
       "    <tr style=\"text-align: right;\">\n",
       "      <th></th>\n",
       "      <th>id</th>\n",
       "      <th>cost</th>\n",
       "      <th>calories</th>\n",
       "      <th>protein</th>\n",
       "      <th>carbohydrates</th>\n",
       "      <th>sodium</th>\n",
       "      <th>fiber</th>\n",
       "      <th>sugar</th>\n",
       "      <th>fat</th>\n",
       "      <th>name</th>\n",
       "      <th>calories_dollar</th>\n",
       "      <th>protein_dollar</th>\n",
       "      <th>fiber_dollar</th>\n",
       "      <th>protein_drv</th>\n",
       "      <th>fiber_drv</th>\n",
       "    </tr>\n",
       "  </thead>\n",
       "  <tbody>\n",
       "    <tr>\n",
       "      <th>5</th>\n",
       "      <td>5997</td>\n",
       "      <td>125</td>\n",
       "      <td>316</td>\n",
       "      <td>13</td>\n",
       "      <td>60</td>\n",
       "      <td>602</td>\n",
       "      <td>3</td>\n",
       "      <td>0</td>\n",
       "      <td>2.5</td>\n",
       "      <td>Asiago Bagel</td>\n",
       "      <td>252.800000</td>\n",
       "      <td>10.400000</td>\n",
       "      <td>2.400000</td>\n",
       "      <td>0.26</td>\n",
       "      <td>0.107143</td>\n",
       "    </tr>\n",
       "    <tr>\n",
       "      <th>6</th>\n",
       "      <td>5977</td>\n",
       "      <td>125</td>\n",
       "      <td>315</td>\n",
       "      <td>11</td>\n",
       "      <td>67</td>\n",
       "      <td>545</td>\n",
       "      <td>3</td>\n",
       "      <td>11</td>\n",
       "      <td>0.0</td>\n",
       "      <td>Blueberry BAGELw/ Cream Cheese</td>\n",
       "      <td>252.000000</td>\n",
       "      <td>8.800000</td>\n",
       "      <td>2.400000</td>\n",
       "      <td>0.22</td>\n",
       "      <td>0.107143</td>\n",
       "    </tr>\n",
       "    <tr>\n",
       "      <th>2</th>\n",
       "      <td>6592</td>\n",
       "      <td>350</td>\n",
       "      <td>857</td>\n",
       "      <td>33</td>\n",
       "      <td>67</td>\n",
       "      <td>1862</td>\n",
       "      <td>2</td>\n",
       "      <td>9</td>\n",
       "      <td>60.0</td>\n",
       "      <td>Turkey Gouda Croissant</td>\n",
       "      <td>244.857143</td>\n",
       "      <td>9.428571</td>\n",
       "      <td>0.571429</td>\n",
       "      <td>0.66</td>\n",
       "      <td>0.071429</td>\n",
       "    </tr>\n",
       "    <tr>\n",
       "      <th>7</th>\n",
       "      <td>5978</td>\n",
       "      <td>125</td>\n",
       "      <td>289</td>\n",
       "      <td>12</td>\n",
       "      <td>60</td>\n",
       "      <td>531</td>\n",
       "      <td>3</td>\n",
       "      <td>0</td>\n",
       "      <td>0.0</td>\n",
       "      <td>Plain Bagel w/ Cream Cheese</td>\n",
       "      <td>231.200000</td>\n",
       "      <td>9.600000</td>\n",
       "      <td>2.400000</td>\n",
       "      <td>0.24</td>\n",
       "      <td>0.107143</td>\n",
       "    </tr>\n",
       "    <tr>\n",
       "      <th>4</th>\n",
       "      <td>6146</td>\n",
       "      <td>350</td>\n",
       "      <td>790</td>\n",
       "      <td>17</td>\n",
       "      <td>133</td>\n",
       "      <td>1201</td>\n",
       "      <td>16</td>\n",
       "      <td>19</td>\n",
       "      <td>37.0</td>\n",
       "      <td>Wrap Turmeric Curry Garbanzo</td>\n",
       "      <td>225.714286</td>\n",
       "      <td>4.857143</td>\n",
       "      <td>4.571429</td>\n",
       "      <td>0.34</td>\n",
       "      <td>0.571429</td>\n",
       "    </tr>\n",
       "  </tbody>\n",
       "</table>\n",
       "</div>"
      ],
      "text/plain": [
       "     id  cost  calories  protein  carbohydrates  sodium  fiber  sugar   fat  \\\n",
       "5  5997   125       316       13             60     602      3      0   2.5   \n",
       "6  5977   125       315       11             67     545      3     11   0.0   \n",
       "2  6592   350       857       33             67    1862      2      9  60.0   \n",
       "7  5978   125       289       12             60     531      3      0   0.0   \n",
       "4  6146   350       790       17            133    1201     16     19  37.0   \n",
       "\n",
       "                             name  calories_dollar  protein_dollar  \\\n",
       "5                    Asiago Bagel       252.800000       10.400000   \n",
       "6  Blueberry BAGELw/ Cream Cheese       252.000000        8.800000   \n",
       "2          Turkey Gouda Croissant       244.857143        9.428571   \n",
       "7     Plain Bagel w/ Cream Cheese       231.200000        9.600000   \n",
       "4    Wrap Turmeric Curry Garbanzo       225.714286        4.857143   \n",
       "\n",
       "   fiber_dollar  protein_drv  fiber_drv  \n",
       "5      2.400000         0.26   0.107143  \n",
       "6      2.400000         0.22   0.107143  \n",
       "2      0.571429         0.66   0.071429  \n",
       "7      2.400000         0.24   0.107143  \n",
       "4      4.571429         0.34   0.571429  "
      ]
     },
     "execution_count": 25,
     "metadata": {},
     "output_type": "execute_result"
    }
   ],
   "source": [
    "highest_calories_per_dollar = nutrition_data.sort_values(by=['calories_dollar'], ascending=False)\n",
    "highest_calories_per_dollar[:5]"
   ]
  },
  {
   "cell_type": "code",
   "execution_count": 26,
   "metadata": {},
   "outputs": [
    {
     "data": {
      "text/html": [
       "<div>\n",
       "<style scoped>\n",
       "    .dataframe tbody tr th:only-of-type {\n",
       "        vertical-align: middle;\n",
       "    }\n",
       "\n",
       "    .dataframe tbody tr th {\n",
       "        vertical-align: top;\n",
       "    }\n",
       "\n",
       "    .dataframe thead th {\n",
       "        text-align: right;\n",
       "    }\n",
       "</style>\n",
       "<table border=\"1\" class=\"dataframe\">\n",
       "  <thead>\n",
       "    <tr style=\"text-align: right;\">\n",
       "      <th></th>\n",
       "      <th>id</th>\n",
       "      <th>cost</th>\n",
       "      <th>calories</th>\n",
       "      <th>protein</th>\n",
       "      <th>carbohydrates</th>\n",
       "      <th>sodium</th>\n",
       "      <th>fiber</th>\n",
       "      <th>sugar</th>\n",
       "      <th>fat</th>\n",
       "      <th>name</th>\n",
       "      <th>calories_dollar</th>\n",
       "      <th>protein_dollar</th>\n",
       "      <th>fiber_dollar</th>\n",
       "      <th>protein_drv</th>\n",
       "      <th>fiber_drv</th>\n",
       "    </tr>\n",
       "  </thead>\n",
       "  <tbody>\n",
       "    <tr>\n",
       "      <th>5</th>\n",
       "      <td>5997</td>\n",
       "      <td>125</td>\n",
       "      <td>316</td>\n",
       "      <td>13</td>\n",
       "      <td>60</td>\n",
       "      <td>602</td>\n",
       "      <td>3</td>\n",
       "      <td>0</td>\n",
       "      <td>2.5</td>\n",
       "      <td>Asiago Bagel</td>\n",
       "      <td>252.800000</td>\n",
       "      <td>10.400000</td>\n",
       "      <td>2.400000</td>\n",
       "      <td>0.26</td>\n",
       "      <td>0.107143</td>\n",
       "    </tr>\n",
       "    <tr>\n",
       "      <th>7</th>\n",
       "      <td>5978</td>\n",
       "      <td>125</td>\n",
       "      <td>289</td>\n",
       "      <td>12</td>\n",
       "      <td>60</td>\n",
       "      <td>531</td>\n",
       "      <td>3</td>\n",
       "      <td>0</td>\n",
       "      <td>0.0</td>\n",
       "      <td>Plain Bagel w/ Cream Cheese</td>\n",
       "      <td>231.200000</td>\n",
       "      <td>9.600000</td>\n",
       "      <td>2.400000</td>\n",
       "      <td>0.24</td>\n",
       "      <td>0.107143</td>\n",
       "    </tr>\n",
       "    <tr>\n",
       "      <th>2</th>\n",
       "      <td>6592</td>\n",
       "      <td>350</td>\n",
       "      <td>857</td>\n",
       "      <td>33</td>\n",
       "      <td>67</td>\n",
       "      <td>1862</td>\n",
       "      <td>2</td>\n",
       "      <td>9</td>\n",
       "      <td>60.0</td>\n",
       "      <td>Turkey Gouda Croissant</td>\n",
       "      <td>244.857143</td>\n",
       "      <td>9.428571</td>\n",
       "      <td>0.571429</td>\n",
       "      <td>0.66</td>\n",
       "      <td>0.071429</td>\n",
       "    </tr>\n",
       "    <tr>\n",
       "      <th>0</th>\n",
       "      <td>6114</td>\n",
       "      <td>350</td>\n",
       "      <td>645</td>\n",
       "      <td>31</td>\n",
       "      <td>57</td>\n",
       "      <td>1903</td>\n",
       "      <td>2</td>\n",
       "      <td>5</td>\n",
       "      <td>34.0</td>\n",
       "      <td>Italian Ciabatta Sandwich</td>\n",
       "      <td>184.285714</td>\n",
       "      <td>8.857143</td>\n",
       "      <td>0.571429</td>\n",
       "      <td>0.62</td>\n",
       "      <td>0.071429</td>\n",
       "    </tr>\n",
       "    <tr>\n",
       "      <th>6</th>\n",
       "      <td>5977</td>\n",
       "      <td>125</td>\n",
       "      <td>315</td>\n",
       "      <td>11</td>\n",
       "      <td>67</td>\n",
       "      <td>545</td>\n",
       "      <td>3</td>\n",
       "      <td>11</td>\n",
       "      <td>0.0</td>\n",
       "      <td>Blueberry BAGELw/ Cream Cheese</td>\n",
       "      <td>252.000000</td>\n",
       "      <td>8.800000</td>\n",
       "      <td>2.400000</td>\n",
       "      <td>0.22</td>\n",
       "      <td>0.107143</td>\n",
       "    </tr>\n",
       "  </tbody>\n",
       "</table>\n",
       "</div>"
      ],
      "text/plain": [
       "     id  cost  calories  protein  carbohydrates  sodium  fiber  sugar   fat  \\\n",
       "5  5997   125       316       13             60     602      3      0   2.5   \n",
       "7  5978   125       289       12             60     531      3      0   0.0   \n",
       "2  6592   350       857       33             67    1862      2      9  60.0   \n",
       "0  6114   350       645       31             57    1903      2      5  34.0   \n",
       "6  5977   125       315       11             67     545      3     11   0.0   \n",
       "\n",
       "                             name  calories_dollar  protein_dollar  \\\n",
       "5                    Asiago Bagel       252.800000       10.400000   \n",
       "7     Plain Bagel w/ Cream Cheese       231.200000        9.600000   \n",
       "2          Turkey Gouda Croissant       244.857143        9.428571   \n",
       "0       Italian Ciabatta Sandwich       184.285714        8.857143   \n",
       "6  Blueberry BAGELw/ Cream Cheese       252.000000        8.800000   \n",
       "\n",
       "   fiber_dollar  protein_drv  fiber_drv  \n",
       "5      2.400000         0.26   0.107143  \n",
       "7      2.400000         0.24   0.107143  \n",
       "2      0.571429         0.66   0.071429  \n",
       "0      0.571429         0.62   0.071429  \n",
       "6      2.400000         0.22   0.107143  "
      ]
     },
     "execution_count": 26,
     "metadata": {},
     "output_type": "execute_result"
    }
   ],
   "source": [
    "highest_protein_per_dollar = nutrition_data.sort_values(by=['protein_dollar'], ascending=False)\n",
    "highest_protein_per_dollar[:5]"
   ]
  },
  {
   "cell_type": "code",
   "execution_count": 27,
   "metadata": {},
   "outputs": [],
   "source": [
    "search_term = \"gouda\""
   ]
  },
  {
   "cell_type": "code",
   "execution_count": 28,
   "metadata": {},
   "outputs": [
    {
     "data": {
      "text/plain": [
       "{'id': 6592,\n",
       " 'description': 'Turkey Gouda Croissant',\n",
       " 'price': '350',\n",
       " 'img': ''}"
      ]
     },
     "execution_count": 28,
     "metadata": {},
     "output_type": "execute_result"
    }
   ],
   "source": [
    "target_product = next(x for x in product_list if search_term.lower() in x[\"description\"].lower())\n",
    "target_product"
   ]
  },
  {
   "cell_type": "code",
   "execution_count": 29,
   "metadata": {},
   "outputs": [
    {
     "data": {
      "text/plain": [
       "6592"
      ]
     },
     "execution_count": 29,
     "metadata": {},
     "output_type": "execute_result"
    }
   ],
   "source": [
    "target_product_id = target_product['id']\n",
    "target_product_id"
   ]
  },
  {
   "cell_type": "code",
   "execution_count": 30,
   "metadata": {},
   "outputs": [
    {
     "data": {
      "text/plain": [
       "[{'id': 6114,\n",
       "  'description': 'Italian Ciabatta Sandwich',\n",
       "  'price': '350',\n",
       "  'img': ''},\n",
       " {'id': 6151,\n",
       "  'description': 'Chicken Bacon Ranch Ciabatta',\n",
       "  'price': '350',\n",
       "  'img': ''},\n",
       " {'id': 6916,\n",
       "  'description': 'Chicken Poblano Toasted Ciabatta',\n",
       "  'price': '350',\n",
       "  'img': ''}]"
      ]
     },
     "execution_count": 30,
     "metadata": {},
     "output_type": "execute_result"
    }
   ],
   "source": [
    "sandwiches"
   ]
  },
  {
   "cell_type": "markdown",
   "metadata": {},
   "source": [
    "This is where it will help to have your accurate location:"
   ]
  },
  {
   "cell_type": "code",
   "execution_count": 31,
   "metadata": {},
   "outputs": [],
   "source": [
    "ex_lat_long = [40.249304, -111.651168]"
   ]
  },
  {
   "cell_type": "code",
   "execution_count": 32,
   "metadata": {},
   "outputs": [],
   "source": [
    "in_stock_params = {\n",
    "    \"format\": \"json\",\n",
    "    \"service\": \"inventory\",\n",
    "    \"action\": \"findMachinesWithStock\",\n",
    "    \"product\": target_product_id\n",
    "}\n",
    "\n",
    "in_stock_response = requests.get(vending_url, headers = auth_headers(), params = in_stock_params)"
   ]
  },
  {
   "cell_type": "code",
   "execution_count": 33,
   "metadata": {},
   "outputs": [
    {
     "data": {
      "text/plain": [
       "[{'location': '5010',\n",
       "  'description': '101 BRWB',\n",
       "  'lat': '40.24673',\n",
       "  'lng': '-111.64532',\n",
       "  'items': [{'updateTime': '2020-10-0115:40:00.0-06:00',\n",
       "    'price': '350',\n",
       "    'amount': 3,\n",
       "    'item': 'Turkey Gouda Croissant',\n",
       "    'img': ''}]},\n",
       " {'location': '5011',\n",
       "  'description': 'BRMB 144',\n",
       "  'lat': '40.24632',\n",
       "  'lng': '-111.65241',\n",
       "  'items': [{'updateTime': '2020-10-0214:04:00.0-06:00',\n",
       "    'price': '350',\n",
       "    'amount': 2,\n",
       "    'item': 'Turkey Gouda Croissant',\n",
       "    'img': ''}]}]"
      ]
     },
     "execution_count": 33,
     "metadata": {},
     "output_type": "execute_result"
    }
   ],
   "source": [
    "in_stock_list = in_stock_response.json()\n",
    "in_stock_list[:2]"
   ]
  },
  {
   "cell_type": "code",
   "execution_count": 34,
   "metadata": {},
   "outputs": [],
   "source": [
    "def item_dist(lat_lng, item):\n",
    "    item_lat_lng = list(map(float, [item[\"lat\"], item[\"lng\"]]))\n",
    "    return distance.distance(np.array(item_lat_lng), np.array(lat_lng))"
   ]
  },
  {
   "cell_type": "code",
   "execution_count": 35,
   "metadata": {},
   "outputs": [],
   "source": [
    "def add_distances_to_item(lat_lng, item):\n",
    "    dist = item_dist(lat_lng, item)\n",
    "    return {**item, \"km\": dist.km, \"ft\": dist.ft}"
   ]
  },
  {
   "cell_type": "code",
   "execution_count": 36,
   "metadata": {
    "scrolled": false
   },
   "outputs": [],
   "source": [
    "closest_items = list(map(lambda stock: add_distances_to_item(ex_lat_long, stock), in_stock_list))\n",
    "# closest_items[:2]"
   ]
  },
  {
   "cell_type": "code",
   "execution_count": 37,
   "metadata": {},
   "outputs": [],
   "source": [
    "closest_items_sorted = sorted(closest_items, key=lambda stock: stock[\"km\"])\n",
    "# closest_items_sorted[:2]"
   ]
  },
  {
   "cell_type": "code",
   "execution_count": 38,
   "metadata": {},
   "outputs": [],
   "source": [
    "def pretty_vending_time(time_str):\n",
    "    before_dot = time_str.split('.')[0]\n",
    "    time_str = f\"{before_dot[:10]}T{before_dot[10:]}-{time_str.split('-')[-1]}\"\n",
    "    local_tz = get_localzone()\n",
    "    return datetime.fromisoformat(time_str).astimezone(local_tz).strftime(\"%x %X\")"
   ]
  },
  {
   "cell_type": "code",
   "execution_count": 39,
   "metadata": {},
   "outputs": [
    {
     "data": {
      "text/plain": [
       "{'location': '5090',\n",
       " 'description': 'TMCB 121',\n",
       " 'lat': '40.24931',\n",
       " 'lng': '-111.65058',\n",
       " 'items': [{'updateTime': '2020-10-0208:38:00.0-06:00',\n",
       "   'price': '350',\n",
       "   'amount': 3,\n",
       "   'item': 'Turkey Gouda Croissant',\n",
       "   'img': ''}],\n",
       " 'km': 0.05003294100493905,\n",
       " 'ft': 164.150068913842}"
      ]
     },
     "execution_count": 39,
     "metadata": {},
     "output_type": "execute_result"
    }
   ],
   "source": [
    "closest_stock_item = closest_items_sorted[0]\n",
    "closest_stock_item"
   ]
  },
  {
   "cell_type": "code",
   "execution_count": 40,
   "metadata": {},
   "outputs": [
    {
     "data": {
      "text/plain": [
       "{'updateTime': '2020-10-0208:38:00.0-06:00',\n",
       " 'price': '350',\n",
       " 'amount': 3,\n",
       " 'item': 'Turkey Gouda Croissant',\n",
       " 'img': ''}"
      ]
     },
     "execution_count": 40,
     "metadata": {},
     "output_type": "execute_result"
    }
   ],
   "source": [
    "closest_stock_item_details = closest_stock_item[\"items\"][0]\n",
    "closest_stock_item_details"
   ]
  },
  {
   "cell_type": "code",
   "execution_count": 41,
   "metadata": {},
   "outputs": [
    {
     "data": {
      "text/plain": [
       "'10/02/20 08:38:00'"
      ]
     },
     "execution_count": 41,
     "metadata": {},
     "output_type": "execute_result"
    }
   ],
   "source": [
    "closest_stock_item_update_time_str = pretty_vending_time(closest_stock_item_details[\"updateTime\"])\n",
    "closest_stock_item_update_time_str"
   ]
  },
  {
   "cell_type": "code",
   "execution_count": 42,
   "metadata": {},
   "outputs": [],
   "source": [
    "closest_nutrition_info = nutrition_data.loc[nutrition_data['id'] == target_product_id]\n",
    "if not closest_nutrition_info.empty:\n",
    "    closest_calories = int(closest_nutrition_info['calories'])\n",
    "    closest_protein = int(closest_nutrition_info['protein'])\n",
    "    closest_fiber = int(closest_nutrition_info['fiber'])\n",
    "    closest_protein_drv = '{0:.02f}'.format(round(float(closest_nutrition_info['protein_drv']) * 100, 2))\n",
    "    closest_fiber_drv = '{0:.02f}'.format(round(float(closest_nutrition_info['fiber_drv']) * 100, 2))\n",
    "    closest_calories_per_dollar = round(float(closest_nutrition_info['calories_dollar']), 2)\n",
    "    closest_protein_per_dollar = round(float(closest_nutrition_info['protein_dollar']), 2)\n",
    "    closest_fiber_per_dollar = round(float(closest_nutrition_info['fiber_dollar']), 2)"
   ]
  },
  {
   "cell_type": "code",
   "execution_count": 43,
   "metadata": {},
   "outputs": [
    {
     "data": {
      "text/markdown": [
       "\n",
       "### The closest Turkey Gouda Croissant at BYU is 164 ft away, at TMCB 121, for $3.50.\n",
       "\n",
       "\n",
       "Contains:\n",
       "- 857 calories\n",
       "- 33g protein (66.00% daily recommended value)\n",
       "- 2g fiber (7.14% daily recommended value)\n",
       "- 244.86 calories/dollar\n",
       "- 9.43g protein/dollar\n",
       "- 0.57g fiber/dollar\n",
       "\n",
       "\n",
       "At __10/02/20 08:38:00__, there were\n",
       "__3__ available.\n"
      ],
      "text/plain": [
       "<IPython.core.display.Markdown object>"
      ]
     },
     "metadata": {},
     "output_type": "display_data"
    }
   ],
   "source": [
    "closest_name = closest_stock_item_details['item']\n",
    "closest_ft_dist = round(closest_stock_item['ft'])\n",
    "closest_location_name = closest_stock_item['description']\n",
    "closest_quantity = closest_stock_item_details['amount']\n",
    "closest_price = '{0:.02f}'.format(int(closest_stock_item_details['price']) / 100)\n",
    "\n",
    "nutrition_str = \"\"\n",
    "\n",
    "if not closest_nutrition_info.empty:\n",
    "    nutrition_str = f\"\"\"\n",
    "Contains:\n",
    "- {closest_calories} calories\n",
    "- {closest_protein}g protein ({closest_protein_drv}% daily recommended value)\n",
    "- {closest_fiber}g fiber ({closest_fiber_drv}% daily recommended value)\n",
    "- {closest_calories_per_dollar} calories/dollar\n",
    "- {closest_protein_per_dollar}g protein/dollar\n",
    "- {closest_fiber_per_dollar}g fiber/dollar\n",
    "\"\"\"\n",
    "\n",
    "info_str = f\"\"\"\n",
    "### The closest {closest_name} at BYU is {closest_ft_dist} ft away, at {closest_location_name}, for ${closest_price}.\n",
    "\n",
    "{nutrition_str}\n",
    "\n",
    "At __{closest_stock_item_update_time_str}__, there {\"were\" if closest_quantity != 1 else \"was\"}\n",
    "__{closest_quantity}__ available.\n",
    "\"\"\"\n",
    "\n",
    "display(Markdown(info_str))"
   ]
  },
  {
   "cell_type": "code",
   "execution_count": null,
   "metadata": {},
   "outputs": [],
   "source": []
  }
 ],
 "metadata": {
  "kernelspec": {
   "display_name": "Python 3",
   "language": "python",
   "name": "python3"
  },
  "language_info": {
   "codemirror_mode": {
    "name": "ipython",
    "version": 3
   },
   "file_extension": ".py",
   "mimetype": "text/x-python",
   "name": "python",
   "nbconvert_exporter": "python",
   "pygments_lexer": "ipython3",
   "version": "3.8.0"
  }
 },
 "nbformat": 4,
 "nbformat_minor": 4
}
